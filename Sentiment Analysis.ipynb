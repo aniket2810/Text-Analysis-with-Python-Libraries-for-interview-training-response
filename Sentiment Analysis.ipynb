{
 "cells": [
  {
   "cell_type": "markdown",
   "id": "c13dd3a5",
   "metadata": {},
   "source": [
    "## Create Sample Data\n"
   ]
  },
  {
   "cell_type": "code",
   "execution_count": 8,
   "id": "2ce51681",
   "metadata": {},
   "outputs": [],
   "source": [
    "sample_responses = \"\"\"\n",
    "1. I am really excited about this position. I believe my skills and experience make me a perfect fit for the role. I have worked on similar projects and have always delivered exceptional results.\n",
    "2. This job does not seem to align well with my career goals. I was looking for a role that offers more creative freedom and opportunities for growth.\n",
    "3. I have some concerns about the company culture. I have heard mixed reviews and I want to ensure that it is a good fit for me.\n",
    "\"\"\"\n"
   ]
  },
  {
   "cell_type": "markdown",
   "id": "35d5f66f",
   "metadata": {},
   "source": [
    "## Sentiment Analysis with TextBlob\n"
   ]
  },
  {
   "cell_type": "code",
   "execution_count": 9,
   "id": "b804dab2",
   "metadata": {},
   "outputs": [],
   "source": [
    "from textblob import TextBlob\n",
    "\n",
    "def analyze_sentiment(response):\n",
    "    blob = TextBlob(response)\n",
    "    sentiment = blob.sentiment.polarity\n",
    "    if sentiment > 0:\n",
    "        return 'Positive'\n",
    "    elif sentiment < 0:\n",
    "        return 'Negative'\n",
    "    else:\n",
    "        return 'Neutral'\n"
   ]
  },
  {
   "cell_type": "markdown",
   "id": "9dcb65ab",
   "metadata": {},
   "source": [
    "## Key Phrase Extraction with spaCy"
   ]
  },
  {
   "cell_type": "code",
   "execution_count": 10,
   "id": "7eef663b",
   "metadata": {},
   "outputs": [],
   "source": [
    "import spacy\n",
    "\n",
    "nlp = spacy.load(\"en_core_web_sm\")\n",
    "\n",
    "def extract_key_phrases(response):\n",
    "    doc = nlp(response)\n",
    "    key_phrases = [chunk.text for chunk in doc.noun_chunks]\n",
    "    return key_phrases\n"
   ]
  },
  {
   "cell_type": "markdown",
   "id": "7fc0123a",
   "metadata": {},
   "source": [
    "## Overall Quality Assessment"
   ]
  },
  {
   "cell_type": "code",
   "execution_count": 11,
   "id": "28a58d0a",
   "metadata": {},
   "outputs": [],
   "source": [
    "def assess_quality(response, key_phrases):\n",
    "    sentiment = analyze_sentiment(response)\n",
    "    quality = 'Average'\n",
    "    if sentiment == 'Positive' and len(key_phrases) > 3:\n",
    "        quality = 'Good'\n",
    "    elif sentiment == 'Negative' or len(key_phrases) < 2:\n",
    "        quality = 'Poor'\n",
    "    return quality\n"
   ]
  },
  {
   "cell_type": "code",
   "execution_count": 12,
   "id": "fb9837f2",
   "metadata": {},
   "outputs": [
    {
     "name": "stdout",
     "output_type": "stream",
     "text": [
      "Response 1:\n",
      "Text: I am really excited about this position. I believe my skills and experience make me a perfect fit for the role. I have worked on similar projects and have always delivered exceptional results.\n",
      "Sentiment: Positive\n",
      "Key Phrases: I, this position, I, my skills, experience, me, the role, I, similar projects, exceptional results\n",
      "Overall Quality: Good\n",
      "\n",
      "\n",
      "Response 2:\n",
      "Text: This job does not seem to align well with my career goals. I was looking for a role that offers more creative freedom and opportunities for growth.\n",
      "Sentiment: Positive\n",
      "Key Phrases: This job, my career goals, I, a role, that, more creative freedom, opportunities, growth\n",
      "Overall Quality: Good\n",
      "\n",
      "\n",
      "Response 3:\n",
      "Text: I have some concerns about the company culture. I have heard mixed reviews and I want to ensure that it is a good fit for me.\n",
      "Sentiment: Positive\n",
      "Key Phrases: I, some concerns, the company culture, I, mixed reviews, I, it, a good fit, me\n",
      "Overall Quality: Good\n",
      "\n",
      "\n"
     ]
    }
   ],
   "source": [
    "def analyze_responses(responses):\n",
    "    for idx, response in enumerate(responses.strip().split(\"\\n\"), 1):\n",
    "        sentiment = analyze_sentiment(response)\n",
    "        key_phrases = extract_key_phrases(response)\n",
    "        quality = assess_quality(response, key_phrases)\n",
    "        print(f\"Response {idx}:\")\n",
    "        print(f\"Text: {response}\")\n",
    "        print(f\"Sentiment: {sentiment}\")\n",
    "        print(f\"Key Phrases: {', '.join(key_phrases)}\")\n",
    "        print(f\"Overall Quality: {quality}\")\n",
    "        print(\"\\n\")\n",
    "\n",
    "responses = \"\"\"\n",
    "I am really excited about this position. I believe my skills and experience make me a perfect fit for the role. I have worked on similar projects and have always delivered exceptional results.\n",
    "This job does not seem to align well with my career goals. I was looking for a role that offers more creative freedom and opportunities for growth.\n",
    "I have some concerns about the company culture. I have heard mixed reviews and I want to ensure that it is a good fit for me.\n",
    "\"\"\"\n",
    "\n",
    "analyze_responses(responses)\n"
   ]
  },
  {
   "cell_type": "code",
   "execution_count": null,
   "id": "daac2e63",
   "metadata": {},
   "outputs": [],
   "source": []
  }
 ],
 "metadata": {
  "kernelspec": {
   "display_name": "Python 3 (ipykernel)",
   "language": "python",
   "name": "python3"
  },
  "language_info": {
   "codemirror_mode": {
    "name": "ipython",
    "version": 3
   },
   "file_extension": ".py",
   "mimetype": "text/x-python",
   "name": "python",
   "nbconvert_exporter": "python",
   "pygments_lexer": "ipython3",
   "version": "3.11.5"
  }
 },
 "nbformat": 4,
 "nbformat_minor": 5
}
